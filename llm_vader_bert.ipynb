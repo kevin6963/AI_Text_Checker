{
 "cells": [
  {
   "cell_type": "code",
   "execution_count": 1,
   "metadata": {},
   "outputs": [
    {
     "name": "stdout",
     "output_type": "stream",
     "text": [
      "Requirement already satisfied: vaderSentiment in /opt/conda/lib/python3.12/site-packages (3.3.2)\n",
      "Requirement already satisfied: requests in /opt/conda/lib/python3.12/site-packages (from vaderSentiment) (2.32.3)\n",
      "Requirement already satisfied: charset_normalizer<4,>=2 in /opt/conda/lib/python3.12/site-packages (from requests->vaderSentiment) (3.4.1)\n",
      "Requirement already satisfied: idna<4,>=2.5 in /opt/conda/lib/python3.12/site-packages (from requests->vaderSentiment) (3.10)\n",
      "Requirement already satisfied: urllib3<3,>=1.21.1 in /opt/conda/lib/python3.12/site-packages (from requests->vaderSentiment) (2.3.0)\n",
      "Requirement already satisfied: certifi>=2017.4.17 in /opt/conda/lib/python3.12/site-packages (from requests->vaderSentiment) (2024.12.14)\n"
     ]
    }
   ],
   "source": [
    "!pip install vaderSentiment"
   ]
  },
  {
   "cell_type": "code",
   "execution_count": 2,
   "metadata": {},
   "outputs": [
    {
     "name": "stderr",
     "output_type": "stream",
     "text": [
      "2025-05-05 20:21:59.628992: E external/local_xla/xla/stream_executor/cuda/cuda_fft.cc:477] Unable to register cuFFT factory: Attempting to register factory for plugin cuFFT when one has already been registered\n",
      "WARNING: All log messages before absl::InitializeLog() is called are written to STDERR\n",
      "E0000 00:00:1746494519.647539     863 cuda_dnn.cc:8310] Unable to register cuDNN factory: Attempting to register factory for plugin cuDNN when one has already been registered\n",
      "E0000 00:00:1746494519.653129     863 cuda_blas.cc:1418] Unable to register cuBLAS factory: Attempting to register factory for plugin cuBLAS when one has already been registered\n",
      "2025-05-05 20:21:59.673091: I tensorflow/core/platform/cpu_feature_guard.cc:210] This TensorFlow binary is optimized to use available CPU instructions in performance-critical operations.\n",
      "To enable the following instructions: AVX2 FMA, in other operations, rebuild TensorFlow with the appropriate compiler flags.\n",
      "[nltk_data] Downloading package stopwords to /home/jovyan/nltk_data...\n",
      "[nltk_data]   Package stopwords is already up-to-date!\n"
     ]
    },
    {
     "data": {
      "text/plain": [
       "True"
      ]
     },
     "execution_count": 2,
     "metadata": {},
     "output_type": "execute_result"
    }
   ],
   "source": [
    "import pandas as pd\n",
    "import numpy as np\n",
    "import matplotlib.pyplot as plt\n",
    "import seaborn as sns\n",
    "import re\n",
    "import nltk\n",
    "from nltk.corpus import stopwords\n",
    "from sklearn.model_selection import train_test_split\n",
    "from sklearn.metrics import accuracy_score, f1_score, classification_report\n",
    "from vaderSentiment.vaderSentiment import SentimentIntensityAnalyzer\n",
    "from transformers import BertTokenizer, BertForSequenceClassification, AdamW\n",
    "import torch\n",
    "from torch.utils.data import DataLoader, TensorDataset\n",
    "import csv\n",
    "\n",
    "# Download stopwords\n",
    "nltk.download('stopwords')"
   ]
  },
  {
   "cell_type": "code",
   "execution_count": 3,
   "metadata": {},
   "outputs": [],
   "source": [
    "# Load and combine multiple datasets\n",
    "files = [\"test.csv\", \"test1.csv\", \"test2.csv\"]\n",
    "dfs = [pd.read_csv(file, sep='\t') for file in files]\n",
    "df = pd.concat(dfs, ignore_index=True)  # Replace with your actual file path\n"
   ]
  },
  {
   "cell_type": "code",
   "execution_count": 4,
   "metadata": {},
   "outputs": [
    {
     "name": "stdout",
     "output_type": "stream",
     "text": [
      "<class 'pandas.core.frame.DataFrame'>\n",
      "RangeIndex: 600 entries, 0 to 599\n",
      "Data columns (total 4 columns):\n",
      " #   Column           Non-Null Count  Dtype  \n",
      "---  ------           --------------  -----  \n",
      " 0   prompt           600 non-null    object \n",
      " 1   human            600 non-null    object \n",
      " 2   ai               600 non-null    object \n",
      " 3   sentiment label  200 non-null    float64\n",
      "dtypes: float64(1), object(3)\n",
      "memory usage: 18.9+ KB\n"
     ]
    }
   ],
   "source": [
    "df.head()\n",
    "df.info()"
   ]
  },
  {
   "cell_type": "code",
   "execution_count": 5,
   "metadata": {},
   "outputs": [],
   "source": [
    "# Extract sentiment label if available and convert to numeric\n",
    "if 'sentiment label' in df.columns:\n",
    "    df['sentiment_label_clean'] = df['sentiment label'].astype(str).str.extract(r'(Positive|Negative|Neutral)', expand=False)\n",
    "    df['sentiment_score_label'] = df['sentiment_label_clean'].map({'Positive': 1, 'Neutral': 0, 'Negative': -1}).fillna(0)\n",
    "else:\n",
    "    df['sentiment_score_label'] = 0\n"
   ]
  },
  {
   "cell_type": "code",
   "execution_count": 6,
   "metadata": {},
   "outputs": [],
   "source": [
    "# Combine prompt with responses\n",
    "df['human_text'] = df['prompt'] + \" \" + df['human']\n",
    "df['ai_text'] = df['prompt'] + \" \" + df['ai']"
   ]
  },
  {
   "cell_type": "code",
   "execution_count": 7,
   "metadata": {},
   "outputs": [],
   "source": [
    "\n",
    "# Create unified training DataFrame\n",
    "human_df = pd.DataFrame({'text': df['human_text'], 'generated': 0, 'sentiment_score_label': df['sentiment_score_label']})\n",
    "ai_df = pd.DataFrame({'text': df['ai_text'], 'generated': 1, 'sentiment_score_label': df['sentiment_score_label']})\n",
    "train_essays = pd.concat([human_df, ai_df], ignore_index=True)\n"
   ]
  },
  {
   "cell_type": "code",
   "execution_count": 8,
   "metadata": {},
   "outputs": [
    {
     "data": {
      "text/html": [
       "<div>\n",
       "<style scoped>\n",
       "    .dataframe tbody tr th:only-of-type {\n",
       "        vertical-align: middle;\n",
       "    }\n",
       "\n",
       "    .dataframe tbody tr th {\n",
       "        vertical-align: top;\n",
       "    }\n",
       "\n",
       "    .dataframe thead th {\n",
       "        text-align: right;\n",
       "    }\n",
       "</style>\n",
       "<table border=\"1\" class=\"dataframe\">\n",
       "  <thead>\n",
       "    <tr style=\"text-align: right;\">\n",
       "      <th></th>\n",
       "      <th>text</th>\n",
       "      <th>generated</th>\n",
       "      <th>sentiment_score_label</th>\n",
       "    </tr>\n",
       "  </thead>\n",
       "  <tbody>\n",
       "    <tr>\n",
       "      <th>0</th>\n",
       "      <td>The code itself was patterned so that most con...</td>\n",
       "      <td>0</td>\n",
       "      <td>0.0</td>\n",
       "    </tr>\n",
       "    <tr>\n",
       "      <th>1</th>\n",
       "      <td>San Diego and its backcountry are subject to p...</td>\n",
       "      <td>0</td>\n",
       "      <td>0.0</td>\n",
       "    </tr>\n",
       "    <tr>\n",
       "      <th>2</th>\n",
       "      <td>I Love New York (stylized I ❤ NY) is both a lo...</td>\n",
       "      <td>0</td>\n",
       "      <td>0.0</td>\n",
       "    </tr>\n",
       "    <tr>\n",
       "      <th>3</th>\n",
       "      <td>Amensalism is an interaction where an organism...</td>\n",
       "      <td>0</td>\n",
       "      <td>0.0</td>\n",
       "    </tr>\n",
       "    <tr>\n",
       "      <th>4</th>\n",
       "      <td>By the census of 1971, the population of Lanca...</td>\n",
       "      <td>0</td>\n",
       "      <td>0.0</td>\n",
       "    </tr>\n",
       "    <tr>\n",
       "      <th>...</th>\n",
       "      <td>...</td>\n",
       "      <td>...</td>\n",
       "      <td>...</td>\n",
       "    </tr>\n",
       "    <tr>\n",
       "      <th>1195</th>\n",
       "      <td>Object: Fremont's response to a negative revie...</td>\n",
       "      <td>1</td>\n",
       "      <td>0.0</td>\n",
       "    </tr>\n",
       "    <tr>\n",
       "      <th>1196</th>\n",
       "      <td>Object: restaurant\\n\\nKey words: lunch, sushi,...</td>\n",
       "      <td>1</td>\n",
       "      <td>0.0</td>\n",
       "    </tr>\n",
       "    <tr>\n",
       "      <th>1197</th>\n",
       "      <td>Object: Lotus Cafe\\n\\nKey words: ordered, food...</td>\n",
       "      <td>1</td>\n",
       "      <td>0.0</td>\n",
       "    </tr>\n",
       "    <tr>\n",
       "      <th>1198</th>\n",
       "      <td>Object: Boulders on Broadway bar\\nKey words: n...</td>\n",
       "      <td>1</td>\n",
       "      <td>0.0</td>\n",
       "    </tr>\n",
       "    <tr>\n",
       "      <th>1199</th>\n",
       "      <td>Object: Hotel stay\\n\\nKey words: Horrible cust...</td>\n",
       "      <td>1</td>\n",
       "      <td>0.0</td>\n",
       "    </tr>\n",
       "  </tbody>\n",
       "</table>\n",
       "<p>1200 rows × 3 columns</p>\n",
       "</div>"
      ],
      "text/plain": [
       "                                                   text  generated  \\\n",
       "0     The code itself was patterned so that most con...          0   \n",
       "1     San Diego and its backcountry are subject to p...          0   \n",
       "2     I Love New York (stylized I ❤ NY) is both a lo...          0   \n",
       "3     Amensalism is an interaction where an organism...          0   \n",
       "4     By the census of 1971, the population of Lanca...          0   \n",
       "...                                                 ...        ...   \n",
       "1195  Object: Fremont's response to a negative revie...          1   \n",
       "1196  Object: restaurant\\n\\nKey words: lunch, sushi,...          1   \n",
       "1197  Object: Lotus Cafe\\n\\nKey words: ordered, food...          1   \n",
       "1198  Object: Boulders on Broadway bar\\nKey words: n...          1   \n",
       "1199  Object: Hotel stay\\n\\nKey words: Horrible cust...          1   \n",
       "\n",
       "      sentiment_score_label  \n",
       "0                       0.0  \n",
       "1                       0.0  \n",
       "2                       0.0  \n",
       "3                       0.0  \n",
       "4                       0.0  \n",
       "...                     ...  \n",
       "1195                    0.0  \n",
       "1196                    0.0  \n",
       "1197                    0.0  \n",
       "1198                    0.0  \n",
       "1199                    0.0  \n",
       "\n",
       "[1200 rows x 3 columns]"
      ]
     },
     "execution_count": 8,
     "metadata": {},
     "output_type": "execute_result"
    }
   ],
   "source": [
    "train_essays.head(1500)"
   ]
  },
  {
   "cell_type": "code",
   "execution_count": 9,
   "metadata": {},
   "outputs": [
    {
     "name": "stdout",
     "output_type": "stream",
     "text": [
      "<class 'pandas.core.frame.DataFrame'>\n",
      "RangeIndex: 1200 entries, 0 to 1199\n",
      "Data columns (total 3 columns):\n",
      " #   Column                 Non-Null Count  Dtype  \n",
      "---  ------                 --------------  -----  \n",
      " 0   text                   1200 non-null   object \n",
      " 1   generated              1200 non-null   int64  \n",
      " 2   sentiment_score_label  1200 non-null   float64\n",
      "dtypes: float64(1), int64(1), object(1)\n",
      "memory usage: 28.3+ KB\n"
     ]
    },
    {
     "data": {
      "text/html": [
       "<div>\n",
       "<style scoped>\n",
       "    .dataframe tbody tr th:only-of-type {\n",
       "        vertical-align: middle;\n",
       "    }\n",
       "\n",
       "    .dataframe tbody tr th {\n",
       "        vertical-align: top;\n",
       "    }\n",
       "\n",
       "    .dataframe thead th {\n",
       "        text-align: right;\n",
       "    }\n",
       "</style>\n",
       "<table border=\"1\" class=\"dataframe\">\n",
       "  <thead>\n",
       "    <tr style=\"text-align: right;\">\n",
       "      <th></th>\n",
       "      <th>text</th>\n",
       "      <th>generated</th>\n",
       "      <th>sentiment_score_label</th>\n",
       "    </tr>\n",
       "  </thead>\n",
       "  <tbody>\n",
       "    <tr>\n",
       "      <th>0</th>\n",
       "      <td>The code itself was patterned so that most con...</td>\n",
       "      <td>0</td>\n",
       "      <td>0.0</td>\n",
       "    </tr>\n",
       "    <tr>\n",
       "      <th>1</th>\n",
       "      <td>San Diego and its backcountry are subject to p...</td>\n",
       "      <td>0</td>\n",
       "      <td>0.0</td>\n",
       "    </tr>\n",
       "    <tr>\n",
       "      <th>2</th>\n",
       "      <td>I Love New York (stylized I ❤ NY) is both a lo...</td>\n",
       "      <td>0</td>\n",
       "      <td>0.0</td>\n",
       "    </tr>\n",
       "    <tr>\n",
       "      <th>3</th>\n",
       "      <td>Amensalism is an interaction where an organism...</td>\n",
       "      <td>0</td>\n",
       "      <td>0.0</td>\n",
       "    </tr>\n",
       "    <tr>\n",
       "      <th>4</th>\n",
       "      <td>By the census of 1971, the population of Lanca...</td>\n",
       "      <td>0</td>\n",
       "      <td>0.0</td>\n",
       "    </tr>\n",
       "  </tbody>\n",
       "</table>\n",
       "</div>"
      ],
      "text/plain": [
       "                                                text  generated  \\\n",
       "0  The code itself was patterned so that most con...          0   \n",
       "1  San Diego and its backcountry are subject to p...          0   \n",
       "2  I Love New York (stylized I ❤ NY) is both a lo...          0   \n",
       "3  Amensalism is an interaction where an organism...          0   \n",
       "4  By the census of 1971, the population of Lanca...          0   \n",
       "\n",
       "   sentiment_score_label  \n",
       "0                    0.0  \n",
       "1                    0.0  \n",
       "2                    0.0  \n",
       "3                    0.0  \n",
       "4                    0.0  "
      ]
     },
     "execution_count": 9,
     "metadata": {},
     "output_type": "execute_result"
    }
   ],
   "source": [
    "# Explore the training data\n",
    "train_essays.info()\n",
    "train_essays.head()\n"
   ]
  },
  {
   "cell_type": "code",
   "execution_count": 10,
   "metadata": {},
   "outputs": [
    {
     "data": {
      "image/png": "[encoded data removed]",
      "text/plain": [
       "<Figure size 640x480 with 1 Axes>"
      ]
     },
     "metadata": {},
     "output_type": "display_data"
    }
   ],
   "source": [
    "# Check for class balance\n",
    "sns.countplot(data=train_essays, x='generated')\n",
    "plt.show()\n"
   ]
  },
  {
   "cell_type": "code",
   "execution_count": 11,
   "metadata": {},
   "outputs": [],
   "source": [
    "stop_words = set(stopwords.words('english'))\n",
    "def clean_text(text):\n",
    "    text = re.sub(r'[^\\w\\s]', '', str(text))\n",
    "    words = text.split()\n",
    "    words = [word.lower() for word in words if word.isalpha()]\n",
    "    words = [word for word in words if word not in stop_words]\n",
    "    return ' '.join(words)\n",
    "\n",
    "train_essays['clean_text'] = train_essays['text'].apply(clean_text)\n"
   ]
  },
  {
   "cell_type": "code",
   "execution_count": 12,
   "metadata": {},
   "outputs": [],
   "source": [
    "# Apply VADER sentiment analysis\n",
    "analyzer = SentimentIntensityAnalyzer()\n",
    "def get_sentiment_score(text):\n",
    "    return analyzer.polarity_scores(text)['compound']\n",
    "\n",
    "train_essays['vader_score'] = train_essays['clean_text'].apply(get_sentiment_score)\n",
    "\n",
    "# Combine VADER and sentiment label as input features\n",
    "vader_tensor = torch.tensor(train_essays['vader_score'].values, dtype=torch.float32).unsqueeze(1)\n",
    "label_tensor = torch.tensor(train_essays['sentiment_score_label'].values, dtype=torch.float32).unsqueeze(1)\n",
    "combined_sentiment_tensor = torch.cat([vader_tensor, label_tensor], dim=1)\n"
   ]
  },
  {
   "cell_type": "code",
   "execution_count": 13,
   "metadata": {},
   "outputs": [],
   "source": [
    "\n",
    "# Split dataset with stratification\n",
    "X_train_text, X_val_text, y_train, y_val, X_train_sent, X_val_sent = train_test_split(\n",
    "    train_essays['clean_text'], train_essays['generated'], combined_sentiment_tensor, \n",
    "    test_size=0.15, random_state=42, stratify=train_essays['generated'])\n"
   ]
  },
  {
   "cell_type": "code",
   "execution_count": 14,
   "metadata": {},
   "outputs": [],
   "source": [
    "# Tokenize using BERT\n",
    "tokenizer = BertTokenizer.from_pretrained('bert-base-uncased', do_lower_case=True)\n",
    "train_encodings = tokenizer(X_train_text.tolist(), padding=True, truncation=True, return_tensors='pt', max_length=128)\n",
    "val_encodings = tokenizer(X_val_text.tolist(), padding=True, truncation=True, return_tensors='pt', max_length=128)\n"
   ]
  },
  {
   "cell_type": "code",
   "execution_count": 15,
   "metadata": {},
   "outputs": [],
   "source": [
    "# Convert labels to tensors\n",
    "y_train_tensor = torch.tensor(y_train.values)\n",
    "y_val_tensor = torch.tensor(y_val.values)\n"
   ]
  },
  {
   "cell_type": "code",
   "execution_count": 16,
   "metadata": {},
   "outputs": [],
   "source": [
    "# Create datasets\n",
    "train_dataset = TensorDataset(train_encodings['input_ids'], train_encodings['attention_mask'], X_train_sent, y_train_tensor)\n",
    "val_dataset = TensorDataset(val_encodings['input_ids'], val_encodings['attention_mask'], X_val_sent, y_val_tensor)\n"
   ]
  },
  {
   "cell_type": "code",
   "execution_count": 17,
   "metadata": {},
   "outputs": [],
   "source": [
    "# Dataloaders\n",
    "train_loader = DataLoader(train_dataset, batch_size=16, shuffle=True)\n",
    "val_loader = DataLoader(val_dataset, batch_size=16, shuffle=False)"
   ]
  },
  {
   "cell_type": "code",
   "execution_count": 18,
   "metadata": {},
   "outputs": [
    {
     "name": "stderr",
     "output_type": "stream",
     "text": [
      "Some weights of BertForSequenceClassification were not initialized from the model checkpoint at bert-base-uncased and are newly initialized: ['classifier.bias', 'classifier.weight']\n",
      "You should probably TRAIN this model on a down-stream task to be able to use it for predictions and inference.\n",
      "/opt/conda/lib/python3.12/site-packages/transformers/optimization.py:591: FutureWarning: This implementation of AdamW is deprecated and will be removed in a future version. Use the PyTorch implementation torch.optim.AdamW instead, or set `no_deprecation_warning=True` to disable this warning\n",
      "  warnings.warn(\n"
     ]
    }
   ],
   "source": [
    "# BERT model with sentiment inputs\n",
    "class BertWithCombinedSentiment(torch.nn.Module):\n",
    "    def __init__(self):\n",
    "        super(BertWithCombinedSentiment, self).__init__()\n",
    "        self.bert = BertForSequenceClassification.from_pretrained('bert-base-uncased', num_labels=2)\n",
    "        self.sentiment_fc = torch.nn.Linear(2, 2)\n",
    "\n",
    "    def forward(self, input_ids, attention_mask, sentiment_tensor):\n",
    "        outputs = self.bert(input_ids=input_ids, attention_mask=attention_mask)\n",
    "        sentiment_out = self.sentiment_fc(sentiment_tensor)\n",
    "        return outputs.logits + sentiment_out\n",
    "\n",
    "model = BertWithCombinedSentiment()\n",
    "device = torch.device(\"cuda\" if torch.cuda.is_available() else \"cpu\")\n",
    "model.to(device)\n",
    "optimizer = AdamW(model.parameters(), lr=2e-5)\n",
    "epochs = 10"
   ]
  },
  {
   "cell_type": "code",
   "execution_count": 24,
   "metadata": {},
   "outputs": [
    {
     "name": "stdout",
     "output_type": "stream",
     "text": [
      "Epoch 1, Loss: 0.0174\n",
      "Epoch 2, Loss: 0.0001\n",
      "Epoch 3, Loss: 0.0001\n",
      "Epoch 4, Loss: 0.0117\n",
      "Epoch 5, Loss: 0.0268\n",
      "Epoch 6, Loss: 0.0001\n",
      "Epoch 7, Loss: 0.0001\n",
      "Epoch 8, Loss: 0.0001\n",
      "Epoch 9, Loss: 0.0302\n",
      "Epoch 10, Loss: 0.0172\n"
     ]
    }
   ],
   "source": [
    "# Training loop\n",
    "for epoch in range(epochs):\n",
    "    model.train()\n",
    "    total_loss = 0\n",
    "    for input_ids, attention_mask, sent_tensor, labels in train_loader:\n",
    "        input_ids, attention_mask, sent_tensor, labels = input_ids.to(device), attention_mask.to(device), sent_tensor.to(device), labels.to(device)\n",
    "        optimizer.zero_grad()\n",
    "        logits = model(input_ids, attention_mask, sent_tensor)\n",
    "        loss = torch.nn.functional.cross_entropy(logits, labels)\n",
    "        total_loss += loss.item()\n",
    "        loss.backward()\n",
    "        torch.nn.utils.clip_grad_norm_(model.parameters(), 1.0)\n",
    "        optimizer.step()\n",
    "    print(f\"Epoch {epoch + 1}, Loss: {total_loss / len(train_loader):.4f}\")\n"
   ]
  },
  {
   "cell_type": "code",
   "execution_count": 25,
   "metadata": {},
   "outputs": [],
   "source": [
    "# Evaluation\n",
    "model.eval()\n",
    "val_preds, val_labels_all = [], []\n",
    "with torch.no_grad():\n",
    "    for input_ids, attention_mask, sent_tensor, labels in val_loader:\n",
    "        input_ids, attention_mask, sent_tensor = input_ids.to(device), attention_mask.to(device), sent_tensor.to(device)\n",
    "        logits = model(input_ids, attention_mask, sent_tensor)\n",
    "        preds = torch.argmax(logits, dim=1).cpu().numpy()\n",
    "        val_preds.extend(preds)\n",
    "        val_labels_all.extend(labels.numpy())\n"
   ]
  },
  {
   "cell_type": "code",
   "execution_count": 26,
   "metadata": {},
   "outputs": [
    {
     "name": "stdout",
     "output_type": "stream",
     "text": [
      "\n",
      "Validation Accuracy (BERT + VADER + Labeled Sentiment): 0.94\n",
      "F1 Score (BERT + VADER + Labeled Sentiment): 0.94\n",
      "Classification Report:\n",
      "              precision    recall  f1-score   support\n",
      "\n",
      "       Human       0.98      0.90      0.94        90\n",
      "          AI       0.91      0.98      0.94        90\n",
      "\n",
      "    accuracy                           0.94       180\n",
      "   macro avg       0.94      0.94      0.94       180\n",
      "weighted avg       0.94      0.94      0.94       180\n",
      "\n"
     ]
    }
   ],
   "source": [
    "# Metrics\n",
    "acc = accuracy_score(val_labels_all, val_preds)\n",
    "f1 = f1_score(val_labels_all, val_preds)\n",
    "print(f\"\\nValidation Accuracy (BERT + VADER + Labeled Sentiment): {acc:.2f}\")\n",
    "print(f\"F1 Score (BERT + VADER + Labeled Sentiment): {f1:.2f}\")\n",
    "print(\"Classification Report:\")\n",
    "print(classification_report(val_labels_all, val_preds, target_names=['Human', 'AI']))\n"
   ]
  },
  {
   "cell_type": "code",
   "execution_count": 27,
   "metadata": {},
   "outputs": [
    {
     "name": "stdout",
     "output_type": "stream",
     "text": [
      "\n",
      "Validation Accuracy (BERT + VADER): 0.94\n",
      "F1 Score (BERT + VADER): 0.94\n",
      "Classification Report (BERT + VADER):\n",
      "              precision    recall  f1-score   support\n",
      "\n",
      "       Human       0.98      0.90      0.94        90\n",
      "          AI       0.91      0.98      0.94        90\n",
      "\n",
      "    accuracy                           0.94       180\n",
      "   macro avg       0.94      0.94      0.94       180\n",
      "weighted avg       0.94      0.94      0.94       180\n",
      "\n"
     ]
    }
   ],
   "source": [
    "# Metrics\n",
    "acc = accuracy_score(val_labels_all, val_preds)\n",
    "f1 = f1_score(val_labels_all, val_preds)\n",
    "print(f\"\\nValidation Accuracy (BERT + VADER): {acc:.2f}\")\n",
    "print(f\"F1 Score (BERT + VADER): {f1:.2f}\")\n",
    "print(\"Classification Report (BERT + VADER):\")\n",
    "print(classification_report(val_labels_all, val_preds, target_names=['Human', 'AI']))\n",
    "\n",
    "# Generate prediction probabilities on full dataset\n",
    "train_essays['id'] = range(len(train_essays))\n",
    "test_inputs = tokenizer(train_essays['clean_text'].tolist(), padding=True, truncation=True, return_tensors='pt', max_length=128)\n",
    "test_inputs = {key: value.to(device) for key, value in test_inputs.items()}\n",
    "\n",
    "with torch.no_grad():\n",
    "    sentiment_tensor = torch.cat([vader_tensor, label_tensor], dim=1).to(device)\n",
    "    outputs = model(test_inputs['input_ids'], test_inputs['attention_mask'], sentiment_tensor)\n",
    "\n",
    "    logits = outputs\n",
    "    predictions = torch.softmax(logits, dim=1)[:, 1].cpu().numpy()\n",
    "\n",
    "submission = pd.DataFrame({\n",
    "    'id': train_essays['id'],\n",
    "    'text': train_essays['text'],\n",
    "    'predicted_probability_AI': predictions\n",
    "})\n",
    "\n",
    "submission.to_csv('submission_bert_+_vader.csv', index=False)\n"
   ]
  },
  {
   "cell_type": "code",
   "execution_count": 28,
   "metadata": {},
   "outputs": [
    {
     "data": {
      "image/png": "[encoded data removed]",
      "text/plain": [
       "<Figure size 1500x1000 with 1 Axes>"
      ]
     },
     "metadata": {},
     "output_type": "display_data"
    }
   ],
   "source": [
    "from sklearn.metrics import classification_report, accuracy_score, f1_score\n",
    "import matplotlib.pyplot as plt\n",
    "import pandas as pd\n",
    "\n",
    "# ✅ Use the actual predictions and true labels from your model\n",
    "y_true = val_labels_all  # or your actual ground truth labels\n",
    "y_pred = val_preds       # or your predicted labels\n",
    "\n",
    "# Generate the classification report dynamically\n",
    "report = classification_report(y_true, y_pred, output_dict=True)\n",
    "df_report = pd.DataFrame(report).transpose()\n",
    "\n",
    "# Rename numeric class labels to 'Human' and 'AI' for better visuals\n",
    "label_map = {'0': 'Human', '1': 'AI'}\n",
    "df_report.rename(index=label_map, inplace=True)\n",
    "\n",
    "# Extract overall accuracy and F1 score\n",
    "accuracy = accuracy_score(y_true, y_pred)\n",
    "f1 = f1_score(y_true, y_pred)\n",
    "\n",
    "# Plot the full report\n",
    "df_report[['precision', 'recall', 'f1-score']].plot(kind='bar', figsize=(15, 10))\n",
    "plt.title(f\"Model Performance (BERT + VADER)\\nAccuracy: {accuracy:.2f}, F1 Score: {f1:.2f}\")\n",
    "plt.ylabel(\"Score\")\n",
    "plt.ylim(0, 1.05)\n",
    "plt.xticks(rotation=0)\n",
    "plt.grid(axis='y')\n",
    "plt.tight_layout()\n",
    "plt.show()\n"
   ]
  },
  {
   "cell_type": "code",
   "execution_count": null,
   "metadata": {},
   "outputs": [],
   "source": []
  }
 ],
 "metadata": {
  "kernelspec": {
   "display_name": "Python 3 (ipykernel)",
   "language": "python",
   "name": "python3"
  },
  "language_info": {
   "codemirror_mode": {
    "name": "ipython",
    "version": 3
   },
   "file_extension": ".py",
   "mimetype": "text/x-python",
   "name": "python",
   "nbconvert_exporter": "python",
   "pygments_lexer": "ipython3",
   "version": "3.12.8"
  }
 },
 "nbformat": 4,
 "nbformat_minor": 4
}
